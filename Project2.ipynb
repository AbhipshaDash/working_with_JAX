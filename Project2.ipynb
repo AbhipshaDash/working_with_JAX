{
  "nbformat": 4,
  "nbformat_minor": 0,
  "metadata": {
    "colab": {
      "provenance": []
    },
    "kernelspec": {
      "name": "python3",
      "display_name": "Python 3"
    },
    "language_info": {
      "name": "python"
    },
    "widgets": {
      "application/vnd.jupyter.widget-state+json": {
        "c5c2a481b74e42249c08084a7cd997a9": {
          "model_module": "@jupyter-widgets/controls",
          "model_name": "HBoxModel",
          "model_module_version": "1.5.0",
          "state": {
            "_dom_classes": [],
            "_model_module": "@jupyter-widgets/controls",
            "_model_module_version": "1.5.0",
            "_model_name": "HBoxModel",
            "_view_count": null,
            "_view_module": "@jupyter-widgets/controls",
            "_view_module_version": "1.5.0",
            "_view_name": "HBoxView",
            "box_style": "",
            "children": [
              "IPY_MODEL_d0d8a3d91a1a4992aea3ff09c248bd4b",
              "IPY_MODEL_9dda3fca654349dbbedaa1c094025908",
              "IPY_MODEL_d307f5a857a543dcb8e50b7f46315c77"
            ],
            "layout": "IPY_MODEL_6def826605974fe1b47d35992969b6bf"
          }
        },
        "d0d8a3d91a1a4992aea3ff09c248bd4b": {
          "model_module": "@jupyter-widgets/controls",
          "model_name": "HTMLModel",
          "model_module_version": "1.5.0",
          "state": {
            "_dom_classes": [],
            "_model_module": "@jupyter-widgets/controls",
            "_model_module_version": "1.5.0",
            "_model_name": "HTMLModel",
            "_view_count": null,
            "_view_module": "@jupyter-widgets/controls",
            "_view_module_version": "1.5.0",
            "_view_name": "HTMLView",
            "description": "",
            "description_tooltip": null,
            "layout": "IPY_MODEL_ebb9e1854af2423a826534ca933fb119",
            "placeholder": "​",
            "style": "IPY_MODEL_240c0ce0ac4a48a28c6c1dde44c3cd9d",
            "value": "100%"
          }
        },
        "9dda3fca654349dbbedaa1c094025908": {
          "model_module": "@jupyter-widgets/controls",
          "model_name": "FloatProgressModel",
          "model_module_version": "1.5.0",
          "state": {
            "_dom_classes": [],
            "_model_module": "@jupyter-widgets/controls",
            "_model_module_version": "1.5.0",
            "_model_name": "FloatProgressModel",
            "_view_count": null,
            "_view_module": "@jupyter-widgets/controls",
            "_view_module_version": "1.5.0",
            "_view_name": "ProgressView",
            "bar_style": "success",
            "description": "",
            "description_tooltip": null,
            "layout": "IPY_MODEL_8fa1136e5d97468587c1eeb9b9d70c52",
            "max": 10000,
            "min": 0,
            "orientation": "horizontal",
            "style": "IPY_MODEL_c999629a651746108506f222d498231b",
            "value": 10000
          }
        },
        "d307f5a857a543dcb8e50b7f46315c77": {
          "model_module": "@jupyter-widgets/controls",
          "model_name": "HTMLModel",
          "model_module_version": "1.5.0",
          "state": {
            "_dom_classes": [],
            "_model_module": "@jupyter-widgets/controls",
            "_model_module_version": "1.5.0",
            "_model_name": "HTMLModel",
            "_view_count": null,
            "_view_module": "@jupyter-widgets/controls",
            "_view_module_version": "1.5.0",
            "_view_name": "HTMLView",
            "description": "",
            "description_tooltip": null,
            "layout": "IPY_MODEL_7696d79514f640c8bf4b6d219262a68d",
            "placeholder": "​",
            "style": "IPY_MODEL_ed53d406c0f24342ae8acdbdb4505a1a",
            "value": " 10000/10000 [01:15&lt;00:00, 168.10it/s]"
          }
        },
        "6def826605974fe1b47d35992969b6bf": {
          "model_module": "@jupyter-widgets/base",
          "model_name": "LayoutModel",
          "model_module_version": "1.2.0",
          "state": {
            "_model_module": "@jupyter-widgets/base",
            "_model_module_version": "1.2.0",
            "_model_name": "LayoutModel",
            "_view_count": null,
            "_view_module": "@jupyter-widgets/base",
            "_view_module_version": "1.2.0",
            "_view_name": "LayoutView",
            "align_content": null,
            "align_items": null,
            "align_self": null,
            "border": null,
            "bottom": null,
            "display": null,
            "flex": null,
            "flex_flow": null,
            "grid_area": null,
            "grid_auto_columns": null,
            "grid_auto_flow": null,
            "grid_auto_rows": null,
            "grid_column": null,
            "grid_gap": null,
            "grid_row": null,
            "grid_template_areas": null,
            "grid_template_columns": null,
            "grid_template_rows": null,
            "height": null,
            "justify_content": null,
            "justify_items": null,
            "left": null,
            "margin": null,
            "max_height": null,
            "max_width": null,
            "min_height": null,
            "min_width": null,
            "object_fit": null,
            "object_position": null,
            "order": null,
            "overflow": null,
            "overflow_x": null,
            "overflow_y": null,
            "padding": null,
            "right": null,
            "top": null,
            "visibility": null,
            "width": null
          }
        },
        "ebb9e1854af2423a826534ca933fb119": {
          "model_module": "@jupyter-widgets/base",
          "model_name": "LayoutModel",
          "model_module_version": "1.2.0",
          "state": {
            "_model_module": "@jupyter-widgets/base",
            "_model_module_version": "1.2.0",
            "_model_name": "LayoutModel",
            "_view_count": null,
            "_view_module": "@jupyter-widgets/base",
            "_view_module_version": "1.2.0",
            "_view_name": "LayoutView",
            "align_content": null,
            "align_items": null,
            "align_self": null,
            "border": null,
            "bottom": null,
            "display": null,
            "flex": null,
            "flex_flow": null,
            "grid_area": null,
            "grid_auto_columns": null,
            "grid_auto_flow": null,
            "grid_auto_rows": null,
            "grid_column": null,
            "grid_gap": null,
            "grid_row": null,
            "grid_template_areas": null,
            "grid_template_columns": null,
            "grid_template_rows": null,
            "height": null,
            "justify_content": null,
            "justify_items": null,
            "left": null,
            "margin": null,
            "max_height": null,
            "max_width": null,
            "min_height": null,
            "min_width": null,
            "object_fit": null,
            "object_position": null,
            "order": null,
            "overflow": null,
            "overflow_x": null,
            "overflow_y": null,
            "padding": null,
            "right": null,
            "top": null,
            "visibility": null,
            "width": null
          }
        },
        "240c0ce0ac4a48a28c6c1dde44c3cd9d": {
          "model_module": "@jupyter-widgets/controls",
          "model_name": "DescriptionStyleModel",
          "model_module_version": "1.5.0",
          "state": {
            "_model_module": "@jupyter-widgets/controls",
            "_model_module_version": "1.5.0",
            "_model_name": "DescriptionStyleModel",
            "_view_count": null,
            "_view_module": "@jupyter-widgets/base",
            "_view_module_version": "1.2.0",
            "_view_name": "StyleView",
            "description_width": ""
          }
        },
        "8fa1136e5d97468587c1eeb9b9d70c52": {
          "model_module": "@jupyter-widgets/base",
          "model_name": "LayoutModel",
          "model_module_version": "1.2.0",
          "state": {
            "_model_module": "@jupyter-widgets/base",
            "_model_module_version": "1.2.0",
            "_model_name": "LayoutModel",
            "_view_count": null,
            "_view_module": "@jupyter-widgets/base",
            "_view_module_version": "1.2.0",
            "_view_name": "LayoutView",
            "align_content": null,
            "align_items": null,
            "align_self": null,
            "border": null,
            "bottom": null,
            "display": null,
            "flex": null,
            "flex_flow": null,
            "grid_area": null,
            "grid_auto_columns": null,
            "grid_auto_flow": null,
            "grid_auto_rows": null,
            "grid_column": null,
            "grid_gap": null,
            "grid_row": null,
            "grid_template_areas": null,
            "grid_template_columns": null,
            "grid_template_rows": null,
            "height": null,
            "justify_content": null,
            "justify_items": null,
            "left": null,
            "margin": null,
            "max_height": null,
            "max_width": null,
            "min_height": null,
            "min_width": null,
            "object_fit": null,
            "object_position": null,
            "order": null,
            "overflow": null,
            "overflow_x": null,
            "overflow_y": null,
            "padding": null,
            "right": null,
            "top": null,
            "visibility": null,
            "width": null
          }
        },
        "c999629a651746108506f222d498231b": {
          "model_module": "@jupyter-widgets/controls",
          "model_name": "ProgressStyleModel",
          "model_module_version": "1.5.0",
          "state": {
            "_model_module": "@jupyter-widgets/controls",
            "_model_module_version": "1.5.0",
            "_model_name": "ProgressStyleModel",
            "_view_count": null,
            "_view_module": "@jupyter-widgets/base",
            "_view_module_version": "1.2.0",
            "_view_name": "StyleView",
            "bar_color": null,
            "description_width": ""
          }
        },
        "7696d79514f640c8bf4b6d219262a68d": {
          "model_module": "@jupyter-widgets/base",
          "model_name": "LayoutModel",
          "model_module_version": "1.2.0",
          "state": {
            "_model_module": "@jupyter-widgets/base",
            "_model_module_version": "1.2.0",
            "_model_name": "LayoutModel",
            "_view_count": null,
            "_view_module": "@jupyter-widgets/base",
            "_view_module_version": "1.2.0",
            "_view_name": "LayoutView",
            "align_content": null,
            "align_items": null,
            "align_self": null,
            "border": null,
            "bottom": null,
            "display": null,
            "flex": null,
            "flex_flow": null,
            "grid_area": null,
            "grid_auto_columns": null,
            "grid_auto_flow": null,
            "grid_auto_rows": null,
            "grid_column": null,
            "grid_gap": null,
            "grid_row": null,
            "grid_template_areas": null,
            "grid_template_columns": null,
            "grid_template_rows": null,
            "height": null,
            "justify_content": null,
            "justify_items": null,
            "left": null,
            "margin": null,
            "max_height": null,
            "max_width": null,
            "min_height": null,
            "min_width": null,
            "object_fit": null,
            "object_position": null,
            "order": null,
            "overflow": null,
            "overflow_x": null,
            "overflow_y": null,
            "padding": null,
            "right": null,
            "top": null,
            "visibility": null,
            "width": null
          }
        },
        "ed53d406c0f24342ae8acdbdb4505a1a": {
          "model_module": "@jupyter-widgets/controls",
          "model_name": "DescriptionStyleModel",
          "model_module_version": "1.5.0",
          "state": {
            "_model_module": "@jupyter-widgets/controls",
            "_model_module_version": "1.5.0",
            "_model_name": "DescriptionStyleModel",
            "_view_count": null,
            "_view_module": "@jupyter-widgets/base",
            "_view_module_version": "1.2.0",
            "_view_name": "StyleView",
            "description_width": ""
          }
        }
      }
    }
  },
  "cells": [
    {
      "cell_type": "code",
      "source": [
        "!pip install equinox"
      ],
      "metadata": {
        "colab": {
          "base_uri": "https://localhost:8080/"
        },
        "id": "x-vsZqIT6lCp",
        "outputId": "b3db5f67-f3ae-451d-9183-216fb9bda2fc"
      },
      "execution_count": null,
      "outputs": [
        {
          "output_type": "stream",
          "name": "stdout",
          "text": [
            "Collecting equinox\n",
            "  Downloading equinox-0.11.3-py3-none-any.whl (167 kB)\n",
            "\u001b[?25l     \u001b[90m━━━━━━━━━━━━━━━━━━━━━━━━━━━━━━━━━━━━━━━━\u001b[0m \u001b[32m0.0/167.9 kB\u001b[0m \u001b[31m?\u001b[0m eta \u001b[36m-:--:--\u001b[0m\r\u001b[2K     \u001b[91m━━━━━━━━━━━━━━━━━━━━━━━━━━━━━━━━━━━━━━━\u001b[0m\u001b[90m╺\u001b[0m \u001b[32m163.8/167.9 kB\u001b[0m \u001b[31m4.9 MB/s\u001b[0m eta \u001b[36m0:00:01\u001b[0m\r\u001b[2K     \u001b[90m━━━━━━━━━━━━━━━━━━━━━━━━━━━━━━━━━━━━━━━━\u001b[0m \u001b[32m167.9/167.9 kB\u001b[0m \u001b[31m3.5 MB/s\u001b[0m eta \u001b[36m0:00:00\u001b[0m\n",
            "\u001b[?25hRequirement already satisfied: jax>=0.4.13 in /usr/local/lib/python3.10/dist-packages (from equinox) (0.4.23)\n",
            "Collecting jaxtyping>=0.2.20 (from equinox)\n",
            "  Downloading jaxtyping-0.2.28-py3-none-any.whl (40 kB)\n",
            "\u001b[?25l     \u001b[90m━━━━━━━━━━━━━━━━━━━━━━━━━━━━━━━━━━━━━━━━\u001b[0m \u001b[32m0.0/40.7 kB\u001b[0m \u001b[31m?\u001b[0m eta \u001b[36m-:--:--\u001b[0m\r\u001b[2K     \u001b[90m━━━━━━━━━━━━━━━━━━━━━━━━━━━━━━━━━━━━━━━━\u001b[0m \u001b[32m40.7/40.7 kB\u001b[0m \u001b[31m3.2 MB/s\u001b[0m eta \u001b[36m0:00:00\u001b[0m\n",
            "\u001b[?25hRequirement already satisfied: typing-extensions>=4.5.0 in /usr/local/lib/python3.10/dist-packages (from equinox) (4.10.0)\n",
            "Requirement already satisfied: ml-dtypes>=0.2.0 in /usr/local/lib/python3.10/dist-packages (from jax>=0.4.13->equinox) (0.2.0)\n",
            "Requirement already satisfied: numpy>=1.22 in /usr/local/lib/python3.10/dist-packages (from jax>=0.4.13->equinox) (1.25.2)\n",
            "Requirement already satisfied: opt-einsum in /usr/local/lib/python3.10/dist-packages (from jax>=0.4.13->equinox) (3.3.0)\n",
            "Requirement already satisfied: scipy>=1.9 in /usr/local/lib/python3.10/dist-packages (from jax>=0.4.13->equinox) (1.11.4)\n",
            "Collecting typeguard==2.13.3 (from jaxtyping>=0.2.20->equinox)\n",
            "  Downloading typeguard-2.13.3-py3-none-any.whl (17 kB)\n",
            "Installing collected packages: typeguard, jaxtyping, equinox\n",
            "Successfully installed equinox-0.11.3 jaxtyping-0.2.28 typeguard-2.13.3\n"
          ]
        }
      ]
    },
    {
      "cell_type": "code",
      "execution_count": null,
      "metadata": {
        "id": "ZiO_dFoD6gY8"
      },
      "outputs": [],
      "source": [
        "import jax\n",
        "import jax.numpy as jnp\n",
        "import jax.random as jr\n",
        "import equinox as eqx\n",
        "import optax\n",
        "import matplotlib.pyplot as plt\n",
        "from tqdm.autonotebook import tqdm"
      ]
    },
    {
      "cell_type": "code",
      "source": [
        "! wget https://github.com/mroberto166/CAMLab-DLSCTutorials/raw/main/antiderivative_aligned_train.npz\n",
        "! wget https://github.com/mroberto166/CAMLab-DLSCTutorials/raw/main/antiderivative_aligned_test.npz"
      ],
      "metadata": {
        "colab": {
          "base_uri": "https://localhost:8080/"
        },
        "id": "9y75T6sb7GuS",
        "outputId": "64a0bc9d-08c1-402d-a54e-10248cff72ee"
      },
      "execution_count": null,
      "outputs": [
        {
          "output_type": "stream",
          "name": "stdout",
          "text": [
            "--2024-04-01 18:31:42--  https://github.com/mroberto166/CAMLab-DLSCTutorials/raw/main/antiderivative_aligned_train.npz\n",
            "Resolving github.com (github.com)... 140.82.114.4\n",
            "Connecting to github.com (github.com)|140.82.114.4|:443... connected.\n",
            "HTTP request sent, awaiting response... 302 Found\n",
            "Location: https://raw.githubusercontent.com/mroberto166/CAMLab-DLSCTutorials/main/antiderivative_aligned_train.npz [following]\n",
            "--2024-04-01 18:31:43--  https://raw.githubusercontent.com/mroberto166/CAMLab-DLSCTutorials/main/antiderivative_aligned_train.npz\n",
            "Resolving raw.githubusercontent.com (raw.githubusercontent.com)... 185.199.108.133, 185.199.109.133, 185.199.110.133, ...\n",
            "Connecting to raw.githubusercontent.com (raw.githubusercontent.com)|185.199.108.133|:443... connected.\n",
            "HTTP request sent, awaiting response... 200 OK\n",
            "Length: 241573 (236K) [application/octet-stream]\n",
            "Saving to: ‘antiderivative_aligned_train.npz’\n",
            "\n",
            "antiderivative_alig 100%[===================>] 235.91K  --.-KB/s    in 0.03s   \n",
            "\n",
            "2024-04-01 18:31:43 (8.83 MB/s) - ‘antiderivative_aligned_train.npz’ saved [241573/241573]\n",
            "\n",
            "--2024-04-01 18:31:43--  https://github.com/mroberto166/CAMLab-DLSCTutorials/raw/main/antiderivative_aligned_test.npz\n",
            "Resolving github.com (github.com)... 140.82.113.4\n",
            "Connecting to github.com (github.com)|140.82.113.4|:443... connected.\n",
            "HTTP request sent, awaiting response... 302 Found\n",
            "Location: https://raw.githubusercontent.com/mroberto166/CAMLab-DLSCTutorials/main/antiderivative_aligned_test.npz [following]\n",
            "--2024-04-01 18:31:43--  https://raw.githubusercontent.com/mroberto166/CAMLab-DLSCTutorials/main/antiderivative_aligned_test.npz\n",
            "Resolving raw.githubusercontent.com (raw.githubusercontent.com)... 185.199.111.133, 185.199.108.133, 185.199.109.133, ...\n",
            "Connecting to raw.githubusercontent.com (raw.githubusercontent.com)|185.199.111.133|:443... connected.\n",
            "HTTP request sent, awaiting response... 200 OK\n",
            "Length: 1601574 (1.5M) [application/octet-stream]\n",
            "Saving to: ‘antiderivative_aligned_test.npz’\n",
            "\n",
            "antiderivative_alig 100%[===================>]   1.53M  --.-KB/s    in 0.06s   \n",
            "\n",
            "2024-04-01 18:31:43 (27.2 MB/s) - ‘antiderivative_aligned_test.npz’ saved [1601574/1601574]\n",
            "\n"
          ]
        }
      ]
    },
    {
      "cell_type": "code",
      "source": [
        "dataset_train = jnp.load(\"antiderivative_aligned_train.npz\", allow_pickle = True)\n",
        "branch_inputs_train = dataset_train[\"X\"][0]\n",
        "trunk_inputs_train = dataset_train[\"X\"][1]\n",
        "outputs_train = dataset_train[\"y\"]"
      ],
      "metadata": {
        "id": "dfAdgFl77gkI"
      },
      "execution_count": null,
      "outputs": []
    },
    {
      "cell_type": "code",
      "source": [
        "branch_inputs_train.shape, trunk_inputs_train.shape, outputs_train.shape"
      ],
      "metadata": {
        "colab": {
          "base_uri": "https://localhost:8080/"
        },
        "id": "J79SMKgP8YsL",
        "outputId": "fe0c13a2-d1fe-495b-c4f1-458ef2d6fc29"
      },
      "execution_count": null,
      "outputs": [
        {
          "output_type": "execute_result",
          "data": {
            "text/plain": [
              "((150, 100), (100, 1), (150, 100))"
            ]
          },
          "metadata": {},
          "execution_count": 11
        }
      ]
    },
    {
      "cell_type": "code",
      "source": [
        "dataset_test = jnp.load(\"antiderivative_aligned_test.npz\", allow_pickle = True)\n",
        "branch_inputs_test = dataset_test[\"X\"][0]\n",
        "trunk_inputs_test = dataset_test[\"X\"][1]\n",
        "outputs_test = dataset_test[\"y\"]"
      ],
      "metadata": {
        "id": "nca4I3ptBIY4"
      },
      "execution_count": null,
      "outputs": []
    },
    {
      "cell_type": "code",
      "source": [
        "branch_inputs_test.shape, trunk_inputs_test.shape, outputs_test.shape"
      ],
      "metadata": {
        "colab": {
          "base_uri": "https://localhost:8080/"
        },
        "id": "e2bFCMvDBQpG",
        "outputId": "74ecbcd8-31a8-47d6-edcb-300cff99ef3f"
      },
      "execution_count": null,
      "outputs": [
        {
          "output_type": "execute_result",
          "data": {
            "text/plain": [
              "((1000, 100), (100, 1), (1000, 100))"
            ]
          },
          "metadata": {},
          "execution_count": 13
        }
      ]
    },
    {
      "cell_type": "code",
      "source": [
        "trunk_inputs_train"
      ],
      "metadata": {
        "colab": {
          "base_uri": "https://localhost:8080/"
        },
        "id": "RaB2qGPfBchJ",
        "outputId": "fd4dc96a-0dec-482b-caaf-329445392a7b"
      },
      "execution_count": null,
      "outputs": [
        {
          "output_type": "execute_result",
          "data": {
            "text/plain": [
              "array([[0.        ],\n",
              "       [0.01010101],\n",
              "       [0.02020202],\n",
              "       [0.03030303],\n",
              "       [0.04040404],\n",
              "       [0.05050505],\n",
              "       [0.06060606],\n",
              "       [0.07070707],\n",
              "       [0.08080808],\n",
              "       [0.09090909],\n",
              "       [0.1010101 ],\n",
              "       [0.11111111],\n",
              "       [0.12121212],\n",
              "       [0.13131313],\n",
              "       [0.14141414],\n",
              "       [0.15151515],\n",
              "       [0.16161616],\n",
              "       [0.17171717],\n",
              "       [0.18181818],\n",
              "       [0.19191919],\n",
              "       [0.2020202 ],\n",
              "       [0.21212121],\n",
              "       [0.22222222],\n",
              "       [0.23232323],\n",
              "       [0.24242424],\n",
              "       [0.25252525],\n",
              "       [0.26262626],\n",
              "       [0.27272727],\n",
              "       [0.28282828],\n",
              "       [0.29292929],\n",
              "       [0.3030303 ],\n",
              "       [0.31313131],\n",
              "       [0.32323232],\n",
              "       [0.33333333],\n",
              "       [0.34343434],\n",
              "       [0.35353535],\n",
              "       [0.36363636],\n",
              "       [0.37373737],\n",
              "       [0.38383838],\n",
              "       [0.39393939],\n",
              "       [0.4040404 ],\n",
              "       [0.41414141],\n",
              "       [0.42424242],\n",
              "       [0.43434343],\n",
              "       [0.44444444],\n",
              "       [0.45454545],\n",
              "       [0.46464646],\n",
              "       [0.47474747],\n",
              "       [0.48484848],\n",
              "       [0.49494949],\n",
              "       [0.50505051],\n",
              "       [0.51515152],\n",
              "       [0.52525253],\n",
              "       [0.53535354],\n",
              "       [0.54545455],\n",
              "       [0.55555556],\n",
              "       [0.56565657],\n",
              "       [0.57575758],\n",
              "       [0.58585859],\n",
              "       [0.5959596 ],\n",
              "       [0.60606061],\n",
              "       [0.61616162],\n",
              "       [0.62626263],\n",
              "       [0.63636364],\n",
              "       [0.64646465],\n",
              "       [0.65656566],\n",
              "       [0.66666667],\n",
              "       [0.67676768],\n",
              "       [0.68686869],\n",
              "       [0.6969697 ],\n",
              "       [0.70707071],\n",
              "       [0.71717172],\n",
              "       [0.72727273],\n",
              "       [0.73737374],\n",
              "       [0.74747475],\n",
              "       [0.75757576],\n",
              "       [0.76767677],\n",
              "       [0.77777778],\n",
              "       [0.78787879],\n",
              "       [0.7979798 ],\n",
              "       [0.80808081],\n",
              "       [0.81818182],\n",
              "       [0.82828283],\n",
              "       [0.83838384],\n",
              "       [0.84848485],\n",
              "       [0.85858586],\n",
              "       [0.86868687],\n",
              "       [0.87878788],\n",
              "       [0.88888889],\n",
              "       [0.8989899 ],\n",
              "       [0.90909091],\n",
              "       [0.91919192],\n",
              "       [0.92929293],\n",
              "       [0.93939394],\n",
              "       [0.94949495],\n",
              "       [0.95959596],\n",
              "       [0.96969697],\n",
              "       [0.97979798],\n",
              "       [0.98989899],\n",
              "       [1.        ]])"
            ]
          },
          "metadata": {},
          "execution_count": 14
        }
      ]
    },
    {
      "cell_type": "code",
      "source": [
        "# due to the the dataset being aligned, we can use the trunk inputs as a grid\n",
        "plt.plot(\n",
        "    trunk_inputs_train[:, 0],\n",
        "    branch_inputs_train[0,:],\n",
        "    label = \"input\",\n",
        ")\n",
        "plt.plot(\n",
        "    trunk_inputs_train[:, 0],\n",
        "    outputs_train[0,:],\n",
        "    label = \"antiderivative\",\n",
        ")\n",
        "plt.legend()\n",
        "plt.grid()"
      ],
      "metadata": {
        "colab": {
          "base_uri": "https://localhost:8080/",
          "height": 430
        },
        "id": "SgTaUwUYBsn0",
        "outputId": "fb3a43ba-aa2b-492e-fd38-0e39dc445b3d"
      },
      "execution_count": null,
      "outputs": [
        {
          "output_type": "display_data",
          "data": {
            "text/plain": [
              "<Figure size 640x480 with 1 Axes>"
            ],
            "image/png": "[encoded data removed]"
          },
          "metadata": {}
        }
      ]
    },
    {
      "cell_type": "code",
      "source": [
        "# due to the the dataset being aligned, we can use the trunk inputs as a grid\n",
        "plt.plot(\n",
        "    trunk_inputs_train[:, 0],\n",
        "    branch_inputs_train[2,:],\n",
        "    label = \"input\",\n",
        ")\n",
        "plt.plot(\n",
        "    trunk_inputs_train[:, 0],\n",
        "    outputs_train[2,:],\n",
        "    label = \"antiderivative\",\n",
        ")\n",
        "plt.legend()\n",
        "plt.grid()"
      ],
      "metadata": {
        "colab": {
          "base_uri": "https://localhost:8080/",
          "height": 435
        },
        "id": "ASwBqWCvCY21",
        "outputId": "7136da7b-69b7-4e61-a917-517bd1685515"
      },
      "execution_count": null,
      "outputs": [
        {
          "output_type": "display_data",
          "data": {
            "text/plain": [
              "<Figure size 640x480 with 1 Axes>"
            ],
            "image/png": "[encoded data removed]"
          },
          "metadata": {}
        }
      ]
    },
    {
      "cell_type": "code",
      "source": [
        "class DeepONet1d(eqx.Module):\n",
        "    branch_net: eqx.nn.MLP\n",
        "    trunk_net: eqx.nn.MLP\n",
        "    bias: jax.Array\n",
        "\n",
        "    def __init__(\n",
        "        self,\n",
        "        in_size_branch,\n",
        "        width_size,\n",
        "        depth,\n",
        "        interact_size,\n",
        "        activation,\n",
        "        *,\n",
        "        key,\n",
        "    ):\n",
        "        \"\"\"\n",
        "        For simplicity, branch and trunk MLP are configured similarly\n",
        "        \"\"\"\n",
        "        b_key, t_key = jr.split(key)\n",
        "        self.branch_net = eqx.nn.MLP(\n",
        "            in_size=in_size_branch,\n",
        "            out_size=interact_size,\n",
        "            width_size=width_size,\n",
        "            depth=depth,\n",
        "            activation=activation,\n",
        "            key=b_key,\n",
        "        )\n",
        "        self.trunk_net = eqx.nn.MLP(\n",
        "            in_size=1,\n",
        "            out_size=interact_size,\n",
        "            width_size=width_size,\n",
        "            depth=depth,\n",
        "            activation=activation,\n",
        "            final_activation=activation,\n",
        "            key=t_key,\n",
        "        )\n",
        "        self.bias = jnp.zeros((1,))\n",
        "\n",
        "    def __call__(self, x_branch, x_trunk):\n",
        "        \"\"\"\n",
        "        x_branch.shape = (in_size_branch,)\n",
        "        x_trunk.shape = (1,)\n",
        "\n",
        "        return shape: \"scalar\"\n",
        "        \"\"\"\n",
        "        branch_out = self.branch_net(x_branch)\n",
        "        trunk_out = self.trunk_net(x_trunk)\n",
        "        inner_product = jnp.sum(branch_out * trunk_out, keepdims=True)\n",
        "\n",
        "        return (inner_product + self.bias)[0]"
      ],
      "metadata": {
        "id": "PR63ko-9FYIr"
      },
      "execution_count": null,
      "outputs": []
    },
    {
      "cell_type": "code",
      "source": [
        "antiderivative_operator = DeepONet1d(\n",
        "    in_size_branch=100,\n",
        "    width_size=40,\n",
        "    depth=1,\n",
        "    interact_size=40,\n",
        "    activation=jax.nn.relu,\n",
        "    key=jr.PRNGKey(0),\n",
        ")\n",
        "\n",
        "optimizer = optax.adam(1e-3)\n",
        "opt_state = optimizer.init(\n",
        "    eqx.filter(antiderivative_operator, eqx.is_array)\n",
        ")\n",
        "\n",
        "def loss_fn(model):\n",
        "    # Full batch training\n",
        "\n",
        "    # Vectorize over both the batches/samples and the query points\n",
        "    predictions = jax.vmap(\n",
        "        jax.vmap(\n",
        "            model,\n",
        "            in_axes=(None, 0),\n",
        "        ),\n",
        "        in_axes=(0, None)\n",
        "    )(branch_inputs_train, trunk_inputs_train)\n",
        "\n",
        "    mse = jnp.mean(jnp.square(predictions - outputs_train))\n",
        "    return mse\n",
        "\n",
        "@eqx.filter_jit\n",
        "def update_fn(model, state):\n",
        "    loss, grad = eqx.filter_value_and_grad(loss_fn)(model)\n",
        "    updates, new_state = optimizer.update(grad, state, model)\n",
        "    new_model = eqx.apply_updates(model, updates)\n",
        "    return new_model, new_state, loss\n",
        "\n",
        "loss_history = []\n",
        "for _ in tqdm(range(10_000)):\n",
        "    antiderivative_operator, opt_state, loss = update_fn(\n",
        "        antiderivative_operator, opt_state\n",
        "    )\n",
        "    loss_history.append(loss)"
      ],
      "metadata": {
        "colab": {
          "base_uri": "https://localhost:8080/",
          "height": 49,
          "referenced_widgets": [
            "c5c2a481b74e42249c08084a7cd997a9",
            "d0d8a3d91a1a4992aea3ff09c248bd4b",
            "9dda3fca654349dbbedaa1c094025908",
            "d307f5a857a543dcb8e50b7f46315c77",
            "6def826605974fe1b47d35992969b6bf",
            "ebb9e1854af2423a826534ca933fb119",
            "240c0ce0ac4a48a28c6c1dde44c3cd9d",
            "8fa1136e5d97468587c1eeb9b9d70c52",
            "c999629a651746108506f222d498231b",
            "7696d79514f640c8bf4b6d219262a68d",
            "ed53d406c0f24342ae8acdbdb4505a1a"
          ]
        },
        "id": "SNuKHwMpa19a",
        "outputId": "f113b325-093a-4d4b-a1d5-bc09ddd05c42"
      },
      "execution_count": null,
      "outputs": [
        {
          "output_type": "display_data",
          "data": {
            "text/plain": [
              "  0%|          | 0/10000 [00:00<?, ?it/s]"
            ],
            "application/vnd.jupyter.widget-view+json": {
              "version_major": 2,
              "version_minor": 0,
              "model_id": "c5c2a481b74e42249c08084a7cd997a9"
            }
          },
          "metadata": {}
        }
      ]
    },
    {
      "cell_type": "code",
      "source": [
        "plt.semilogy(loss_history)"
      ],
      "metadata": {
        "colab": {
          "base_uri": "https://localhost:8080/",
          "height": 448
        },
        "id": "xvCvDG8LbkdA",
        "outputId": "e51d6112-bd51-43cc-a376-a5951f1bf3f1"
      },
      "execution_count": null,
      "outputs": [
        {
          "output_type": "execute_result",
          "data": {
            "text/plain": [
              "[<matplotlib.lines.Line2D at 0x7a2ecb19de40>]"
            ]
          },
          "metadata": {},
          "execution_count": 22
        },
        {
          "output_type": "display_data",
          "data": {
            "text/plain": [
              "<Figure size 640x480 with 1 Axes>"
            ],
            "image/png": "[encoded data removed]"
          },
          "metadata": {}
        }
      ]
    },
    {
      "cell_type": "code",
      "source": [
        "plt.plot(\n",
        "    trunk_inputs_test[:, 0],\n",
        "    branch_inputs_test[0, :],\n",
        "    label=\"input\",\n",
        ")\n",
        "plt.plot(\n",
        "    trunk_inputs_test[:, 0],\n",
        "    outputs_test[0, :],\n",
        "    label=\"gt antiderivative\",\n",
        ")\n",
        "plt.plot(\n",
        "    trunk_inputs_test[:, 0],\n",
        "    jax.vmap(\n",
        "        antiderivative_operator,\n",
        "        in_axes=(None, 0)\n",
        "    )(branch_inputs_test[0, :], trunk_inputs_test),\n",
        "    label=\"prediction\",\n",
        ")\n",
        "plt.legend()\n",
        "plt.grid()\n"
      ],
      "metadata": {
        "colab": {
          "base_uri": "https://localhost:8080/",
          "height": 432
        },
        "id": "GoNGpSgGbm_P",
        "outputId": "8e019b62-a748-45f9-c1bb-58aff7fd7246"
      },
      "execution_count": null,
      "outputs": [
        {
          "output_type": "display_data",
          "data": {
            "text/plain": [
              "<Figure size 640x480 with 1 Axes>"
            ],
            "image/png": "[encoded data removed]"
          },
          "metadata": {}
        }
      ]
    },
    {
      "cell_type": "code",
      "source": [
        "predictions_test = jax.vmap(\n",
        "    jax.vmap(\n",
        "        antiderivative_operator,\n",
        "        in_axes=(None, 0)\n",
        "    ),\n",
        "    in_axes=(0, None,)\n",
        ")(branch_inputs_test, trunk_inputs_test)"
      ],
      "metadata": {
        "id": "dNUaLJNqbpLO"
      },
      "execution_count": null,
      "outputs": []
    },
    {
      "cell_type": "code",
      "source": [
        "predictions_test.shape"
      ],
      "metadata": {
        "colab": {
          "base_uri": "https://localhost:8080/"
        },
        "id": "IStO9jfUbr7H",
        "outputId": "09a70085-096d-4626-c3a4-89ae57cf56e1"
      },
      "execution_count": null,
      "outputs": [
        {
          "output_type": "execute_result",
          "data": {
            "text/plain": [
              "(1000, 100)"
            ]
          },
          "metadata": {},
          "execution_count": 25
        }
      ]
    },
    {
      "cell_type": "code",
      "source": [
        "def normalized_l2_error(pred, ref):\n",
        "    diff_norm = jnp.linalg.norm(pred - ref)\n",
        "    ref_norm = jnp.linalg.norm(ref)\n",
        "    return diff_norm / ref_norm\n"
      ],
      "metadata": {
        "id": "uIDsfNZSbtf-"
      },
      "execution_count": null,
      "outputs": []
    },
    {
      "cell_type": "code",
      "source": [
        "test_errors = jax.vmap(normalized_l2_error)(predictions_test, outputs_test)"
      ],
      "metadata": {
        "id": "lt0KY5p7bvgO"
      },
      "execution_count": null,
      "outputs": []
    },
    {
      "cell_type": "code",
      "source": [
        "mean_test_error = jnp.mean(test_errors)\n",
        "std_test_error = jnp.std(test_errors)"
      ],
      "metadata": {
        "id": "NiDhJAuybxOW"
      },
      "execution_count": null,
      "outputs": []
    },
    {
      "cell_type": "code",
      "source": [
        "mean_test_error, std_test_error"
      ],
      "metadata": {
        "colab": {
          "base_uri": "https://localhost:8080/"
        },
        "id": "BASWfvTHby1n",
        "outputId": "c5ceb055-dc3e-43eb-b86a-fc6c90d20ff0"
      },
      "execution_count": null,
      "outputs": [
        {
          "output_type": "execute_result",
          "data": {
            "text/plain": [
              "(Array(0.01788488, dtype=float32), Array(0.02149484, dtype=float32))"
            ]
          },
          "metadata": {},
          "execution_count": 29
        }
      ]
    },
    {
      "cell_type": "code",
      "source": [],
      "metadata": {
        "id": "3SZLG4Ihb0pS"
      },
      "execution_count": null,
      "outputs": []
    }
  ]
}